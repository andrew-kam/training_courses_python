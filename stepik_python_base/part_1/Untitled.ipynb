{
 "cells": [
  {
   "cell_type": "code",
   "execution_count": 18,
   "id": "65e0c338-0c40-4713-9c17-53432cd12dbe",
   "metadata": {},
   "outputs": [
    {
     "name": "stdin",
     "output_type": "stream",
     "text": [
      " 7\n",
      " 9\n",
      " 2\n"
     ]
    },
    {
     "name": "stdout",
     "output_type": "stream",
     "text": [
      "Недосып\n"
     ]
    }
   ],
   "source": [
    "A, B, H = int(input()), int(input()), int(input())\n",
    "if A <= H <= B:\n",
    "    print('Это нормально')\n",
    "elif H < A:\n",
    "    print('Недосып')\n",
    "else:\n",
    "    print('Пересып')"
   ]
  },
  {
   "cell_type": "code",
   "execution_count": 25,
   "id": "f01de1c6-4594-4916-9b81-ed469469d2a4",
   "metadata": {},
   "outputs": [
    {
     "name": "stdin",
     "output_type": "stream",
     "text": [
      " 2000\n"
     ]
    },
    {
     "name": "stdout",
     "output_type": "stream",
     "text": [
      "Високосный\n"
     ]
    }
   ],
   "source": [
    "A = int(input())\n",
    "if A % 4 == 0 and A % 100 != 0 or A % 400 == 0:\n",
    "    print('Високосный')\n",
    "else:\n",
    "    print('Обычный')"
   ]
  },
  {
   "cell_type": "code",
   "execution_count": 23,
   "id": "bbbc2dab-2519-475b-83b3-b127f8e82b35",
   "metadata": {},
   "outputs": [
    {
     "data": {
      "text/plain": [
       "False"
      ]
     },
     "execution_count": 23,
     "metadata": {},
     "output_type": "execute_result"
    }
   ],
   "source": [
    "A // 400 == 0"
   ]
  },
  {
   "cell_type": "code",
   "execution_count": 30,
   "id": "826b8852-aee6-40ff-b0f1-879501518bac",
   "metadata": {},
   "outputs": [
    {
     "name": "stdout",
     "output_type": "stream",
     "text": [
      "Обычный\n",
      "\n",
      "1\n"
     ]
    }
   ],
   "source": [
    "print('Обычный' '\\n\\n' '1')"
   ]
  },
  {
   "cell_type": "code",
   "execution_count": 1,
   "id": "e291919a-6a9b-469f-9356-d82f96f71dc4",
   "metadata": {},
   "outputs": [
    {
     "name": "stdin",
     "output_type": "stream",
     "text": [
      " 3\n",
      " 4\n",
      " 5\n"
     ]
    },
    {
     "name": "stdout",
     "output_type": "stream",
     "text": [
      "6.0\n"
     ]
    }
   ],
   "source": [
    "a, b, c = int(input()), int(input()), int(input())\n",
    "p = (a + b + c) / 2\n",
    "S = (p * (p-a) * (p-b) * (p-c)) ** 0.5\n",
    "print(S)"
   ]
  },
  {
   "cell_type": "code",
   "execution_count": 5,
   "id": "5987b8a9-617d-4da1-8f51-3ea0d1d28da7",
   "metadata": {},
   "outputs": [
    {
     "name": "stdin",
     "output_type": "stream",
     "text": [
      " -20\n"
     ]
    },
    {
     "name": "stdout",
     "output_type": "stream",
     "text": [
      "False\n"
     ]
    }
   ],
   "source": [
    "A = int(input())\n",
    "print(-15 < A <=12 or 14 < A < 17 or 19 <= A)"
   ]
  },
  {
   "cell_type": "code",
   "execution_count": 9,
   "id": "33a413cd-7199-4e00-97a6-9134b7a6c6ec",
   "metadata": {},
   "outputs": [
    {
     "name": "stdin",
     "output_type": "stream",
     "text": [
      " -20\n"
     ]
    },
    {
     "name": "stdout",
     "output_type": "stream",
     "text": [
      "False\n"
     ]
    }
   ],
   "source": [
    "A = int(input())\n",
    "print(-15 < A and (A not in [13, 14, 17, 18]))\n"
   ]
  },
  {
   "cell_type": "code",
   "execution_count": 16,
   "id": "4a68fd63-f601-4191-981c-246875e0d396",
   "metadata": {},
   "outputs": [
    {
     "name": "stdin",
     "output_type": "stream",
     "text": [
      " 5.0\n",
      " 10.0\n",
      " /\n"
     ]
    },
    {
     "name": "stdout",
     "output_type": "stream",
     "text": [
      "0.5\n"
     ]
    }
   ],
   "source": [
    "a, b, act = float(input()), float(input()), (input())\n",
    "if b == 0 and act in ['/', 'mod', 'div']:\n",
    "    print('Деление на 0!')\n",
    "elif act == '+':\n",
    "    print(a + b)\n",
    "elif act == '-':\n",
    "    print(a - b)\n",
    "elif act == '/':\n",
    "    print(a / b)\n",
    "elif act == '*':\n",
    "    print(a * b)\n",
    "elif act == 'mod':\n",
    "    print(a % b)\n",
    "elif act == 'pow':\n",
    "    print(a ** b)\n",
    "elif act == 'div':\n",
    "    print(a // b)"
   ]
  },
  {
   "cell_type": "code",
   "execution_count": 20,
   "id": "1d3ca4ea-031d-4a18-ac8f-50aef460527e",
   "metadata": {},
   "outputs": [
    {
     "name": "stdin",
     "output_type": "stream",
     "text": [
      " круг\n",
      " 5\n"
     ]
    },
    {
     "name": "stdout",
     "output_type": "stream",
     "text": [
      "78.5\n"
     ]
    }
   ],
   "source": [
    "fig = input()\n",
    "if fig == 'треугольник':\n",
    "    a, b, c = int(input()), int(input()), int(input())\n",
    "    p = (a + b + c) / 2\n",
    "    S = (p * (p-a) * (p-b) * (p-c)) ** 0.5\n",
    "    print(S)\n",
    "elif fig == 'прямоугольник':\n",
    "    print(int(input()) * int(input()))\n",
    "elif fig == 'круг':\n",
    "    print(3.14 * int(input()) **2 )"
   ]
  },
  {
   "cell_type": "code",
   "execution_count": 28,
   "id": "31c68e19-d404-4ddf-8a42-6df130803710",
   "metadata": {},
   "outputs": [
    {
     "name": "stdin",
     "output_type": "stream",
     "text": [
      " 23\n",
      " 23\n",
      " 21\n"
     ]
    },
    {
     "name": "stdout",
     "output_type": "stream",
     "text": [
      "23\n",
      "21\n",
      "23\n"
     ]
    }
   ],
   "source": [
    "a, b, c = int(input()), int(input()), int(input())\n",
    "\n",
    "if a >= b and a >= c:\n",
    "    x_max = a\n",
    "elif b >= c:\n",
    "    x_max = b\n",
    "else:\n",
    "    x_max = c\n",
    "\n",
    "if a <= b and a <= c:\n",
    "    x_min = a\n",
    "elif b <= c:\n",
    "    x_min = b\n",
    "else:\n",
    "    x_min = c\n",
    "    \n",
    "if c <= a <= b or c >= a >= b:\n",
    "    x_mid = a\n",
    "elif a <= b <= c or a >= b >= c:\n",
    "    x_mid = b\n",
    "else:\n",
    "    x_mid = c\n",
    "\n",
    "#print(x_max, '\\n', x_min, '\\n', x_mid)\n",
    "print(x_max, x_min, x_mid, sep='\\n')"
   ]
  },
  {
   "cell_type": "code",
   "execution_count": 50,
   "id": "6b6f077a-3107-4292-b252-4b4a04a63383",
   "metadata": {},
   "outputs": [
    {
     "name": "stdin",
     "output_type": "stream",
     "text": [
      " 2\n"
     ]
    },
    {
     "name": "stdout",
     "output_type": "stream",
     "text": [
      "2 программиста\n"
     ]
    }
   ],
   "source": [
    "x = int(input())\n",
    "a = 'программист'\n",
    "b = 'а'\n",
    "c = 'ов'\n",
    "if (x+10) % 10 == 1 and (x // 10) % 10 != 1:\n",
    "    print (x, a)\n",
    "elif (x+10) % 10 in [2, 3, 4] and (x // 10) % 10 != 1:\n",
    "    print(x, a+b)\n",
    "else:\n",
    "    print (x, a+c)\n",
    "    "
   ]
  },
  {
   "cell_type": "code",
   "execution_count": 59,
   "id": "90574c50-8bc9-4df7-8b29-7f80a97b9b2f",
   "metadata": {},
   "outputs": [
    {
     "name": "stdin",
     "output_type": "stream",
     "text": [
      " 090234\n"
     ]
    },
    {
     "name": "stdout",
     "output_type": "stream",
     "text": [
      "Счастливый\n"
     ]
    }
   ],
   "source": [
    "x = input()\n",
    "if (int(x[0]) + int(x[1]) + int(x[2])) == (int(x[3]) + int(x[4]) + int(x[5])):\n",
    "    print('Счастливый')\n",
    "else:\n",
    "    print('Обычный')"
   ]
  },
  {
   "cell_type": "code",
   "execution_count": null,
   "id": "632a6fb9-9e3b-459a-83cc-8fcf3ad4198f",
   "metadata": {},
   "outputs": [],
   "source": [
    "i = 0\n",
    "while i <= 10:\n",
    "    print(1)\n",
    "    i = i + 1\n",
    "    if i > 7:\n",
    "        i = i + 2"
   ]
  },
  {
   "cell_type": "code",
   "execution_count": null,
   "id": "581cd09a-ddb3-45d0-a205-67f6fd981bdb",
   "metadata": {},
   "outputs": [],
   "source": [
    "i = 0\n",
    "while i < 5:\n",
    "    print('*')\n",
    "    if i % 2 == 0:\n",
    "        print('**')\n",
    "    if i > 2:\n",
    "        print('***')\n",
    "    i = i + 1"
   ]
  },
  {
   "cell_type": "code",
   "execution_count": 10,
   "id": "215e2204-a1bb-4f34-bd52-9a68a878a0db",
   "metadata": {},
   "outputs": [
    {
     "name": "stdin",
     "output_type": "stream",
     "text": [
      " 0\n"
     ]
    },
    {
     "name": "stdout",
     "output_type": "stream",
     "text": [
      "0\n"
     ]
    }
   ],
   "source": [
    "x = 1\n",
    "s = 0\n",
    "while x != 0:\n",
    "    x = int(input())\n",
    "    s += x\n",
    "print(s)"
   ]
  },
  {
   "cell_type": "code",
   "execution_count": 14,
   "id": "15d3f480-b695-485a-b390-9864e05ac069",
   "metadata": {},
   "outputs": [
    {
     "name": "stdin",
     "output_type": "stream",
     "text": [
      " 12\n",
      " 8\n"
     ]
    },
    {
     "name": "stdout",
     "output_type": "stream",
     "text": [
      "24\n"
     ]
    }
   ],
   "source": [
    "a = int(input())\n",
    "b = int(input())\n",
    "c = a * b\n",
    "while c > 0:\n",
    "    if c % a == 0 and c % b == 0:\n",
    "        k = c\n",
    "    c -=1\n",
    "print(k)"
   ]
  },
  {
   "cell_type": "code",
   "execution_count": 15,
   "id": "eb9751a1-46ed-4f64-8701-3bdab989c55b",
   "metadata": {},
   "outputs": [],
   "source": [
    "i = 0\n",
    "s = 0\n",
    "while i < 10:\n",
    "    i = i + 1\n",
    "    s = s + i\n",
    "    if s > 15:\n",
    "        break\n",
    "    i = i + 1"
   ]
  },
  {
   "cell_type": "code",
   "execution_count": 18,
   "id": "f845a57f-b9a1-4ccf-beb6-af28d3ec70b9",
   "metadata": {},
   "outputs": [],
   "source": [
    "i = 0\n",
    "s = 0\n",
    "while i < 10:\n",
    "    i = i + 1\n",
    "    s = s + i\n",
    "    if s > 15:\n",
    "        continue\n",
    "    i = i + 1"
   ]
  },
  {
   "cell_type": "code",
   "execution_count": 19,
   "id": "8a545e93-056e-44ec-9f77-58b10aae2ea7",
   "metadata": {},
   "outputs": [
    {
     "data": {
      "text/plain": [
       "10"
      ]
     },
     "execution_count": 19,
     "metadata": {},
     "output_type": "execute_result"
    }
   ],
   "source": [
    "i"
   ]
  },
  {
   "cell_type": "code",
   "execution_count": 21,
   "id": "d15b9800-1b3b-4797-91db-d4bc691ecd8b",
   "metadata": {},
   "outputs": [
    {
     "name": "stdin",
     "output_type": "stream",
     "text": [
      " 1\n",
      " 11\n"
     ]
    },
    {
     "name": "stdout",
     "output_type": "stream",
     "text": [
      "11\n"
     ]
    },
    {
     "name": "stdin",
     "output_type": "stream",
     "text": [
      " 2\n",
      " 100\n"
     ]
    },
    {
     "name": "stdout",
     "output_type": "stream",
     "text": [
      "100\n"
     ]
    },
    {
     "name": "stdin",
     "output_type": "stream",
     "text": [
      " 101\n"
     ]
    }
   ],
   "source": [
    "while True:\n",
    "    x = int(input())\n",
    "    if x < 10:\n",
    "        continue\n",
    "    elif x > 100:\n",
    "        break\n",
    "    print (x)"
   ]
  },
  {
   "cell_type": "code",
   "execution_count": 39,
   "id": "61ba5a6b-02b9-4b4b-ac66-574d4459e124",
   "metadata": {},
   "outputs": [
    {
     "name": "stdin",
     "output_type": "stream",
     "text": [
      " 7\n",
      " 10\n",
      " 5\n",
      " 6\n"
     ]
    },
    {
     "name": "stdout",
     "output_type": "stream",
     "text": [
      "\t5\t6\t\n",
      "7\t35\t42\t\n",
      "8\t40\t48\t\n",
      "9\t45\t54\t\n",
      "10\t50\t60\t\n"
     ]
    }
   ],
   "source": [
    "a, b, c, d = int(input()), int(input()), int(input()), int(input())\n",
    "print('\\t', end = '')\n",
    "for i in range(c, d + 1):\n",
    "    print(i, end = '\\t')\n",
    "print()\n",
    "for j in range(a, b + 1):\n",
    "    print(j, end = '\\t')\n",
    "    for i in range(c, d + 1):    \n",
    "        print (i * j, end = '\\t')\n",
    "    print()    "
   ]
  },
  {
   "cell_type": "code",
   "execution_count": null,
   "id": "52622ebc-bd0d-4227-b9c3-418bed957e46",
   "metadata": {},
   "outputs": [],
   "source": [
    "I = [1]\n",
    "I.extend(list(range(a, b + 1)))\n",
    "J = [1]\n",
    "J.extend(list(range(c, d + 1)))"
   ]
  },
  {
   "cell_type": "code",
   "execution_count": 40,
   "id": "c008dd6f-01af-41a5-a6ec-3bec42bd5618",
   "metadata": {},
   "outputs": [
    {
     "name": "stdin",
     "output_type": "stream",
     "text": [
      " -5\n",
      " 12\n"
     ]
    },
    {
     "name": "stdout",
     "output_type": "stream",
     "text": [
      "4.5\n"
     ]
    }
   ],
   "source": [
    "a, b = int(input()), int(input())\n",
    "S = 0\n",
    "j = 0\n",
    "for i in range(a, b+1):\n",
    "    if i % 3 == 0:\n",
    "        S += i\n",
    "        j += 1\n",
    "print(S / j)"
   ]
  },
  {
   "cell_type": "code",
   "execution_count": 50,
   "id": "182c8ac4-8037-4fb2-b1d1-48dfa1852211",
   "metadata": {},
   "outputs": [
    {
     "name": "stdin",
     "output_type": "stream",
     "text": [
      " -5\n",
      " 12\n"
     ]
    },
    {
     "name": "stdout",
     "output_type": "stream",
     "text": [
      "4.5\n"
     ]
    }
   ],
   "source": [
    "a, b = int(input()), int(input())\n",
    "L = list(i for i in range(a, b+1) if i % 3 == 0)\n",
    "print(sum(L) / len(L))"
   ]
  },
  {
   "cell_type": "code",
   "execution_count": 49,
   "id": "9ed5e559-bc50-4b65-8638-e841da1ce363",
   "metadata": {},
   "outputs": [
    {
     "data": {
      "text/plain": [
       "15"
      ]
     },
     "execution_count": 49,
     "metadata": {},
     "output_type": "execute_result"
    }
   ],
   "source": [
    "sum(L)"
   ]
  },
  {
   "cell_type": "code",
   "execution_count": 62,
   "id": "fc9ea3ee-41c4-44d1-bd4c-745445b36932",
   "metadata": {},
   "outputs": [
    {
     "name": "stdout",
     "output_type": "stream",
     "text": [
      "40.0\n"
     ]
    }
   ],
   "source": [
    "s = input().lower()\n",
    "cnt = s.count('g')\n",
    "cnt += s.count('c')\n",
    "print(cnt / len(s) * 100)"
   ]
  },
  {
   "cell_type": "code",
   "execution_count": 129,
   "id": "075960c5-f3f3-431d-9357-7156277fbb19",
   "metadata": {},
   "outputs": [
    {
     "data": {
      "text/plain": [
       "9"
      ]
     },
     "execution_count": 129,
     "metadata": {},
     "output_type": "execute_result"
    }
   ],
   "source": [
    "len(s)"
   ]
  },
  {
   "cell_type": "code",
   "execution_count": 139,
   "id": "ef09fe0f-e1d5-464b-abb3-076cf4a0b663",
   "metadata": {},
   "outputs": [
    {
     "name": "stdin",
     "output_type": "stream",
     "text": [
      " jklg\n"
     ]
    },
    {
     "name": "stdout",
     "output_type": "stream",
     "text": [
      "j1k1l1g1\n"
     ]
    }
   ],
   "source": [
    "s = input() + '+'\n",
    "string = ''\n",
    "indx = 0\n",
    "while indx < len(s) - 1:\n",
    "    cnt = 1\n",
    "    let = s[indx]\n",
    "    for j in s[indx + 1:]:\n",
    "        if j == let:\n",
    "            cnt += 1\n",
    "        else:\n",
    "            string += (let + str(cnt))\n",
    "            indx += cnt\n",
    "            break\n",
    "print(string)\n",
    "    \n"
   ]
  },
  {
   "cell_type": "code",
   "execution_count": 151,
   "id": "dbcc5be4-6e3d-4993-9534-33c90e2a0a43",
   "metadata": {},
   "outputs": [
    {
     "name": "stdout",
     "output_type": "stream",
     "text": [
      "a4b2c1a2\n"
     ]
    }
   ],
   "source": [
    "#s = input()\n",
    "string = ''\n",
    "cnt = 0\n",
    "let = s[0]\n",
    "for i in s:\n",
    "        if i != let:\n",
    "            string += (let + str(cnt))\n",
    "            let = i\n",
    "            cnt = 0\n",
    "        cnt += 1\n",
    "string += let + str(cnt)\n",
    "print(string)\n",
    "    "
   ]
  },
  {
   "cell_type": "code",
   "execution_count": 7,
   "id": "811fcecb-7071-4820-a0e9-90464dcda5ad",
   "metadata": {},
   "outputs": [],
   "source": [
    "students = ['Ivan', 'Masha', 'Sasha']\n",
    "students += ['Olga']\n",
    "students += 'Olga'"
   ]
  },
  {
   "cell_type": "code",
   "execution_count": 8,
   "id": "83d109be-c043-4ed7-8c40-37ae6c4602f3",
   "metadata": {},
   "outputs": [
    {
     "data": {
      "text/plain": [
       "['Ivan', 'Masha', 'Sasha', 'Olga', 'O', 'l', 'g', 'a']"
      ]
     },
     "execution_count": 8,
     "metadata": {},
     "output_type": "execute_result"
    }
   ],
   "source": [
    "students"
   ]
  },
  {
   "cell_type": "code",
   "execution_count": 16,
   "id": "d623d3b5-fd9d-4a61-ab9d-b299f61f32a0",
   "metadata": {},
   "outputs": [
    {
     "name": "stdin",
     "output_type": "stream",
     "text": [
      " 1 2 3\n"
     ]
    }
   ],
   "source": [
    "l = [int(i) for i in input().split()]"
   ]
  },
  {
   "cell_type": "code",
   "execution_count": 21,
   "id": "3c23a3ac-7d99-4fb0-a481-597bfce9dbb4",
   "metadata": {},
   "outputs": [
    {
     "name": "stdin",
     "output_type": "stream",
     "text": [
      " 1 2 3\n"
     ]
    },
    {
     "name": "stdout",
     "output_type": "stream",
     "text": [
      "6\n"
     ]
    }
   ],
   "source": [
    "print(sum([int(i) for i in input().split()]))"
   ]
  },
  {
   "cell_type": "code",
   "execution_count": 36,
   "id": "765a5977-1e24-47ba-922c-b45dcd3db1cd",
   "metadata": {},
   "outputs": [
    {
     "name": "stdin",
     "output_type": "stream",
     "text": [
      " 1 3 5 6 10\n"
     ]
    },
    {
     "data": {
      "text/plain": [
       "[1, 3, 5, 6, 10]"
      ]
     },
     "execution_count": 36,
     "metadata": {},
     "output_type": "execute_result"
    }
   ],
   "source": [
    "l = list(map(int, input().split()))\n",
    "l"
   ]
  },
  {
   "cell_type": "code",
   "execution_count": 54,
   "id": "e6195a8e-5824-4e1d-9728-a8295e257750",
   "metadata": {},
   "outputs": [
    {
     "name": "stdin",
     "output_type": "stream",
     "text": [
      " 1 3 5 6 10\n"
     ]
    },
    {
     "name": "stdout",
     "output_type": "stream",
     "text": [
      "1 -1 1\n",
      "3 0 2\n",
      "5 1 3\n",
      "6 2 4\n",
      "10 3 0\n",
      "\n",
      "13 6 9 15 7\n"
     ]
    }
   ],
   "source": [
    "s = []\n",
    "#l = list(map(int, input().split()))\n",
    "l = [int(i) for i in input().split()]\n",
    "if len(l) == 1:\n",
    "    print(l[0])\n",
    "else:\n",
    "    for i in l:\n",
    "        ind = l.index(i)\n",
    "        ind_1 = ind - 1\n",
    "        ind_2 = ind + 1\n",
    "    \n",
    "        if ind_2 == len(l):\n",
    "            ind_2 = 0\n",
    "       # print(l[ind_1] + l[ind_2], end=' ')\n",
    "        s += [l[ind_1] + l[ind_2]]\n",
    "        print (i, ind_1, ind_2)\n",
    "    print()\n",
    "    print(*s)"
   ]
  },
  {
   "cell_type": "code",
   "execution_count": 29,
   "id": "3878879f-2917-41d2-b1f6-6892440734a4",
   "metadata": {},
   "outputs": [
    {
     "data": {
      "text/plain": [
       "[1, 3, 5, 6, 10]"
      ]
     },
     "execution_count": 29,
     "metadata": {},
     "output_type": "execute_result"
    }
   ],
   "source": [
    "l"
   ]
  },
  {
   "cell_type": "code",
   "execution_count": 64,
   "id": "4e121993-026e-4e4d-8c8d-0caa47b2fe77",
   "metadata": {},
   "outputs": [
    {
     "name": "stdin",
     "output_type": "stream",
     "text": [
      " 1 0 0 0 0 2 0\n"
     ]
    },
    {
     "name": "stdout",
     "output_type": "stream",
     "text": [
      "0 1 0 0 2 0 3 "
     ]
    }
   ],
   "source": [
    "l = [int(i) for i in input().split()]\n",
    "if len(l) <= 1:\n",
    "    print(*l)\n",
    "else:\n",
    "    for i in range(len(l)):\n",
    "        ind_1 = i - 1\n",
    "        ind_2 = i + 1\n",
    "        if ind_2 == len(l):\n",
    "            ind_2 = 0\n",
    "        print(l[ind_1] + l[ind_2], end=' ')"
   ]
  },
  {
   "cell_type": "code",
   "execution_count": 76,
   "id": "36cd6580-f349-441c-af70-c163702dba3d",
   "metadata": {},
   "outputs": [
    {
     "name": "stdin",
     "output_type": "stream",
     "text": [
      " 4 8 0 3 4 2 0 3\n"
     ]
    }
   ],
   "source": [
    "l = [int(i) for i in input().split()]\n",
    "l.sort()"
   ]
  },
  {
   "cell_type": "code",
   "execution_count": 80,
   "id": "29969cb4-8818-4e21-9550-2e8855e721d5",
   "metadata": {},
   "outputs": [
    {
     "data": {
      "text/plain": [
       "[0, 0, 2, 3, 3, 4, 4, 8]"
      ]
     },
     "execution_count": 80,
     "metadata": {},
     "output_type": "execute_result"
    }
   ],
   "source": [
    "l"
   ]
  },
  {
   "cell_type": "code",
   "execution_count": 104,
   "id": "d78c731d-5618-4496-ab15-df5ab4b053ab",
   "metadata": {},
   "outputs": [
    {
     "name": "stdin",
     "output_type": "stream",
     "text": [
      " 10\n"
     ]
    },
    {
     "name": "stdout",
     "output_type": "stream",
     "text": [
      "\n"
     ]
    }
   ],
   "source": [
    "l = [int(i) for i in input().split()]\n",
    "l.sort()\n",
    "s = []\n",
    "if len(l) > 1:\n",
    "    for i in range(1, len(l)):\n",
    "        if l[i] == l[i-1]:\n",
    "            if l[i] not in s:\n",
    "                s += [l[i]]\n",
    "            \n",
    "    print(*s)"
   ]
  },
  {
   "cell_type": "code",
   "execution_count": null,
   "id": "01099f78-2484-4712-bd0b-918a9e51b829",
   "metadata": {},
   "outputs": [],
   "source": []
  },
  {
   "cell_type": "code",
   "execution_count": 98,
   "id": "629fc89f-f9fb-4c78-9a21-53b4e96eecfa",
   "metadata": {},
   "outputs": [],
   "source": [
    "s = []"
   ]
  },
  {
   "cell_type": "code",
   "execution_count": 105,
   "id": "11ab9868-492f-4b60-a271-679240ba01f8",
   "metadata": {},
   "outputs": [
    {
     "name": "stdin",
     "output_type": "stream",
     "text": [
      " 10\n"
     ]
    }
   ],
   "source": [
    "l = [int(i) for i in input().split()]\n",
    "l.sort()\n",
    "s = []\n",
    "if len(l) > 1:\n",
    "    for i in range(1, len(l)):\n",
    "        if l[i] == l[i-1] and l[i] not in s:\n",
    "            s += [l[i]]\n",
    "    print(*s)"
   ]
  },
  {
   "cell_type": "code",
   "execution_count": null,
   "id": "3d0a860b-793d-4871-8532-978fd63f31b7",
   "metadata": {},
   "outputs": [],
   "source": [
    "s = int(input())\n",
    "s2 = s ** 2\n",
    "while s != 0:\n",
    "    a = int(input())\n",
    "    s += a\n",
    "    s2 += a ** 2\n",
    "    print(s, s2)\n",
    "print(s2)    "
   ]
  },
  {
   "cell_type": "code",
   "execution_count": 23,
   "id": "36850a2c-0b78-4ed1-a267-664c22c220f7",
   "metadata": {},
   "outputs": [
    {
     "name": "stdin",
     "output_type": "stream",
     "text": [
      " 7\n"
     ]
    },
    {
     "name": "stdout",
     "output_type": "stream",
     "text": [
      "1 2 2 3 3 3 4\n"
     ]
    }
   ],
   "source": [
    "n = int(input())\n",
    "l = []\n",
    "a = 0\n",
    "while len(l) < n:\n",
    "    a += 1\n",
    "    l += [a] * a\n",
    "print(*l[:n])"
   ]
  },
  {
   "cell_type": "code",
   "execution_count": 29,
   "id": "19de7950-8d76-40db-8236-8f4264d3d841",
   "metadata": {},
   "outputs": [
    {
     "name": "stdin",
     "output_type": "stream",
     "text": [
      " 5 8 2 7 8 8 2 4\n"
     ]
    }
   ],
   "source": []
  },
  {
   "cell_type": "code",
   "execution_count": 33,
   "id": "0ff9941d-7936-45d8-a2c8-2a0940e4715d",
   "metadata": {},
   "outputs": [
    {
     "name": "stdout",
     "output_type": "stream",
     "text": [
      "1 4 5 "
     ]
    }
   ],
   "source": [
    "lst = [int(i) for i in input().split()]\n",
    "x = int(input())\n",
    "if x not in lst:\n",
    "    print('Отсутствует')\n",
    "else:\n",
    "    for i in range (len(lst)):\n",
    "        if lst[i] == x:\n",
    "            print(i, end = ' ')"
   ]
  },
  {
   "cell_type": "code",
   "execution_count": 52,
   "id": "9059c1c1-ccd7-4de5-82bc-51353f52d495",
   "metadata": {},
   "outputs": [
    {
     "name": "stdin",
     "output_type": "stream",
     "text": [
      " 1\n",
      " end\n"
     ]
    },
    {
     "name": "stdout",
     "output_type": "stream",
     "text": [
      "4\n"
     ]
    }
   ],
   "source": [
    "string = input().split()\n",
    "lst = []\n",
    "while 'end' not in string:\n",
    "    lst += [[int(i) for i in string]]\n",
    "    string = input().split()\n",
    "LST = [[0 for I in range(len(lst[0]))] for J in range(len(lst))]\n",
    "for I in range(len(LST)):\n",
    "    i_d = (I + 1 if I < (len(LST) - 1) else 0)\n",
    "    for J in range(len(LST[I])):\n",
    "        j_r = (J + 1 if J < (len(LST[I]) - 1) else 0)\n",
    "        LST[I][J] = lst[i_d][J] + lst[I-1][J] + lst[I][J-1] + lst[I][j_r]\n",
    "for j in range(len(LST)):\n",
    "    print(*LST[j])\n"
   ]
  },
  {
   "cell_type": "code",
   "execution_count": 226,
   "id": "b8340af8-af15-46ff-be3a-ab4b1652cb8a",
   "metadata": {},
   "outputs": [
    {
     "name": "stdin",
     "output_type": "stream",
     "text": [
      " 5\n"
     ]
    },
    {
     "name": "stdout",
     "output_type": "stream",
     "text": [
      "1 2 3 4 5\n",
      "16 17 18 19 6\n",
      "15 24 25 20 7\n",
      "14 23 22 21 8\n",
      "13 12 11 10 9\n"
     ]
    }
   ],
   "source": [
    "n = int(input())\n",
    "x_1 = 0\n",
    "x_2 = n\n",
    "y_1 = 0\n",
    "y_2 = n\n",
    "lst = [[0 for i in range(n)] for j in range(n)]\n",
    "N = 1\n",
    "\n",
    "while N <= n ** 2:\n",
    "\n",
    "    for i in range(x_1, x_2):\n",
    "        lst[y_1][i] = N\n",
    "        N += 1\n",
    "\n",
    "    y_1 += 1\n",
    "    x_2 -= 1\n",
    "\n",
    "    for j in range(y_1, y_2):\n",
    "        lst[j][x_2] = N\n",
    "        N += 1\n",
    "\n",
    "    x_2 -= 1\n",
    "    y_2 -= 1\n",
    "\n",
    "    for i in range(x_2, x_1 - 1, -1):\n",
    "        lst[y_2][i] = N\n",
    "        N += 1\n",
    "\n",
    "    y_2 -= 1\n",
    "    x_2 += 1\n",
    "    for j in range(y_2, y_1 - 1, -1):\n",
    "        lst[j][x_1] = N\n",
    "        N += 1\n",
    "\n",
    "    x_1 += 1\n",
    "    y_2 += 1\n",
    "\n",
    "for i in range(len(lst)):\n",
    "    print(*(lst[i]))"
   ]
  },
  {
   "cell_type": "code",
   "execution_count": null,
   "id": "33f8eaff-3d9f-4dd9-b8ed-34011bfd07bb",
   "metadata": {},
   "outputs": [],
   "source": []
  },
  {
   "cell_type": "code",
   "execution_count": 225,
   "id": "f93b628e-ac73-43e4-ab8b-e28a75406244",
   "metadata": {},
   "outputs": [
    {
     "name": "stdout",
     "output_type": "stream",
     "text": [
      "1 2 3 4 5\n",
      "16 17 18 19 6\n",
      "15 24 25 20 7\n",
      "14 23 22 21 8\n",
      "13 12 11 10 9\n"
     ]
    }
   ],
   "source": [
    "for i in range(len(lst)):\n",
    "    print(*(lst[i]))\n"
   ]
  },
  {
   "cell_type": "code",
   "execution_count": null,
   "id": "7d8e3ffc-2238-4d74-93d2-b1f59f0cfa39",
   "metadata": {},
   "outputs": [],
   "source": []
  }
 ],
 "metadata": {
  "kernelspec": {
   "display_name": "Python 3 (ipykernel)",
   "language": "python",
   "name": "python3"
  },
  "language_info": {
   "codemirror_mode": {
    "name": "ipython",
    "version": 3
   },
   "file_extension": ".py",
   "mimetype": "text/x-python",
   "name": "python",
   "nbconvert_exporter": "python",
   "pygments_lexer": "ipython3",
   "version": "3.9.12"
  }
 },
 "nbformat": 4,
 "nbformat_minor": 5
}
