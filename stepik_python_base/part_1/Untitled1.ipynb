{
 "cells": [
  {
   "cell_type": "code",
   "execution_count": 1,
   "id": "eb0945ee-4ebd-4fa1-aa73-67d456b9dd63",
   "metadata": {},
   "outputs": [
    {
     "data": {
      "text/plain": [
       "10555"
      ]
     },
     "execution_count": 1,
     "metadata": {},
     "output_type": "execute_result"
    }
   ],
   "source": [
    "def f(n):\n",
    "    return n * 10 + 5\n",
    "f(f(f(10)))"
   ]
  },
  {
   "cell_type": "code",
   "execution_count": null,
   "id": "c0e36eff-c246-411a-816b-34836ada8c77",
   "metadata": {},
   "outputs": [],
   "source": []
  },
  {
   "cell_type": "code",
   "execution_count": 12,
   "id": "35b8d1bc-73a4-4115-bbf5-75e13d764e4d",
   "metadata": {},
   "outputs": [],
   "source": [
    "def f(x):\n",
    "    y = (x - 2)**2 + 1 if x > 2 else (1 - (x + 2)**2 if x <= -2 else -x / 2)\n",
    "    return y"
   ]
  },
  {
   "cell_type": "code",
   "execution_count": null,
   "id": "5d9f2876-abdb-4296-8506-8c33323862db",
   "metadata": {},
   "outputs": [],
   "source": []
  },
  {
   "cell_type": "code",
   "execution_count": 38,
   "id": "6832ecac-bdc6-4d0c-b156-5fa3616e4332",
   "metadata": {},
   "outputs": [],
   "source": [
    "def modify_list(l):\n",
    "     for i in range(len(l)-1, -1, -1):\n",
    "        if l[i] % 2 != 0:\n",
    "            l.pop(i)\n",
    "        else:\n",
    "            l[i] = l[i] // 2"
   ]
  },
  {
   "cell_type": "code",
   "execution_count": 42,
   "id": "feb50c6e-26d7-48e5-9741-72da6f55936c",
   "metadata": {},
   "outputs": [
    {
     "name": "stdout",
     "output_type": "stream",
     "text": [
      "None\n",
      "[1, 2, 3]\n",
      "[1]\n",
      "[5, 4]\n",
      "[]\n"
     ]
    }
   ],
   "source": [
    "lst = [1, 2, 3, 4, 5, 6]\n",
    "print(modify_list(lst))  # None\n",
    "print(lst)               # [1, 2, 3]\n",
    "modify_list(lst)\n",
    "print(lst)               # [1]\n",
    "\n",
    "lst = [10, 5, 8, 3]\n",
    "modify_list(lst)\n",
    "print(lst)               # [5, 4]\n",
    "lst = [1, 3, 7, 9, 11]\n",
    "modify_list(lst)\n",
    "print(lst)"
   ]
  },
  {
   "cell_type": "code",
   "execution_count": null,
   "id": "5a439b63-0e24-4318-9627-706499657053",
   "metadata": {},
   "outputs": [],
   "source": []
  },
  {
   "cell_type": "code",
   "execution_count": 46,
   "id": "27f5e0cd-8d65-421e-9534-e5af1c6001e3",
   "metadata": {},
   "outputs": [],
   "source": [
    "def update_dictionary(d, key, value):\n",
    "    if key in d:\n",
    "        d[key] += [value]\n",
    "    elif 2*key in d:\n",
    "        d[2*key] += [value]\n",
    "    else:\n",
    "        d[2*key] = [value]"
   ]
  },
  {
   "cell_type": "code",
   "execution_count": 47,
   "id": "cd1706b2-7976-4b90-b77a-56bc8fffaac8",
   "metadata": {},
   "outputs": [
    {
     "name": "stdout",
     "output_type": "stream",
     "text": [
      "None\n",
      "{2: [-1]}\n",
      "{2: [-1, -2]}\n",
      "{2: [-1, -2, -3]}\n"
     ]
    }
   ],
   "source": [
    "d = {}\n",
    "print(update_dictionary(d, 1, -1))  # None\n",
    "print(d)                            # {2: [-1]}\n",
    "update_dictionary(d, 2, -2)\n",
    "print(d)                            # {2: [-1, -2]}\n",
    "update_dictionary(d, 1, -3)\n",
    "print(d)                            # {2: [-1, -2, -3]}"
   ]
  },
  {
   "cell_type": "code",
   "execution_count": null,
   "id": "8a58e370-ea3d-4adf-baea-1f96690a45c2",
   "metadata": {},
   "outputs": [],
   "source": []
  },
  {
   "cell_type": "code",
   "execution_count": 65,
   "id": "fc9f2a32-6aa3-4829-bf24-5a78bcf95c06",
   "metadata": {},
   "outputs": [
    {
     "name": "stdin",
     "output_type": "stream",
     "text": [
      " a aa abC aa ac abc bcd a\n"
     ]
    },
    {
     "name": "stdout",
     "output_type": "stream",
     "text": [
      "a 2\n",
      "aa 2\n",
      "abc 2\n",
      "ac 1\n",
      "bcd 1\n"
     ]
    }
   ],
   "source": [
    "st = input().lower().split()\n",
    "d = {}\n",
    "for key in st:\n",
    "    if key not in d:\n",
    "        d[key] = 1\n",
    "    else:\n",
    "        d[key] += 1\n",
    "for key, value in d.items():\n",
    "    print(key, value)"
   ]
  },
  {
   "cell_type": "code",
   "execution_count": null,
   "id": "aa90319f-b297-4441-9671-77bdf7fe0dcc",
   "metadata": {},
   "outputs": [],
   "source": []
  },
  {
   "cell_type": "code",
   "execution_count": null,
   "id": "5f136523-7368-465d-b287-19b0bab1067c",
   "metadata": {},
   "outputs": [],
   "source": [
    "d = {}\n",
    "n = int(input())\n",
    "for i in range(n):\n",
    "    x = int(input())\n",
    "    if x not in d:\n",
    "        d[x] = f(x)\n",
    "    print(d[x])"
   ]
  },
  {
   "cell_type": "code",
   "execution_count": null,
   "id": "16a1fb37-d111-41b3-bb74-da83bbbdc04e",
   "metadata": {},
   "outputs": [],
   "source": []
  },
  {
   "cell_type": "code",
   "execution_count": 1,
   "id": "c4004df8-010f-4145-9a0a-f982d3b30128",
   "metadata": {},
   "outputs": [
    {
     "name": "stdin",
     "output_type": "stream",
     "text": [
      " 2\n",
      " 4\n"
     ]
    },
    {
     "name": "stdout",
     "output_type": "stream",
     "text": [
      "6\n"
     ]
    }
   ],
   "source": [
    "a = int(input())\n",
    "b = int(input())\n",
    "print(a + b)"
   ]
  },
  {
   "cell_type": "code",
   "execution_count": null,
   "id": "e5848fa3-c35c-4c98-a032-0496df1fefda",
   "metadata": {},
   "outputs": [],
   "source": []
  },
  {
   "cell_type": "code",
   "execution_count": 77,
   "id": "026241ea-956a-4309-b4bd-064f934019df",
   "metadata": {},
   "outputs": [],
   "source": [
    "#with open('111.txt') as inf:\n",
    "with open('dataset_3363_2.txt') as inf:\n",
    "    for line in inf:\n",
    "        line = line.strip()\n",
    "        #print(line)\n",
    "string = ''\n",
    "ind = 0\n",
    "while ind <= len(line)-1:\n",
    "    let = line[ind]\n",
    "    fig = ''\n",
    "    ind += 1\n",
    "    #print('*', let, fig, ind)\n",
    "    for j in line[ind:]:\n",
    "        if j.isdigit():\n",
    "            fig += j\n",
    "            ind += 1\n",
    "        else:\n",
    "            break\n",
    "    #print(let, fig)\n",
    "    string += (let * int(fig))\n",
    "string += '\\n'"
   ]
  },
  {
   "cell_type": "code",
   "execution_count": 78,
   "id": "e99eefc2-9200-4c20-8423-075eca038004",
   "metadata": {},
   "outputs": [
    {
     "name": "stdout",
     "output_type": "stream",
     "text": [
      "MMMMMMMMMMMMMMMMMMMqqqqqqqqqqqqqqqqqqdddddddddddddddhhhhhhhhhhhhhhhhhhhhfwwwwwwwwwwwCCCCCCKKKKKKKKKKKKKKKKKKDDDDDDDMMMMMMMMMMMMMeeeeeeeeeelllSSSSSSSSSSSSSSSSSSSIIMMMMMMMSSSSSSSSSSSSSShhhhhhhhhzzzzzIIIIIIIIIwwwwwwwwwwwaaaaaaaaaaaaHHHHHvvvvvvvvvpppppppUUUUUUUUUUUUuuuuuuuuuuuXXXXXXXXXXXXXXXXXXXXYYYYYYYYYNNNNRRRRRRfffffffffffllllllllllllQBmmmmmmmmmmmmmmDDDDDDKKKKKKKLLLLLLLLLLLLLLLLLHHHHHHHHHHHHHHTTTTTTTTnnnnnnnnnnnnnnnnrrrrrrrrrzzzzzzzzzzzzzz\n",
      "\n"
     ]
    }
   ],
   "source": [
    "print(string)"
   ]
  },
  {
   "cell_type": "code",
   "execution_count": 76,
   "id": "eba70de9-1d29-4265-91c1-ca967cff8688",
   "metadata": {},
   "outputs": [],
   "source": [
    "with open('ans.txt', 'w') as ouf:\n",
    "    ouf.write(string)"
   ]
  },
  {
   "cell_type": "code",
   "execution_count": null,
   "id": "7f35e053-782e-4581-8674-86a8e5e10f28",
   "metadata": {},
   "outputs": [],
   "source": []
  },
  {
   "cell_type": "code",
   "execution_count": 115,
   "id": "31ee98af-dc4c-431f-927c-3bc8f2ca8eb6",
   "metadata": {},
   "outputs": [],
   "source": [
    "def cnt_inc(st, d):\n",
    "    for key in st:\n",
    "        if key not in d:\n",
    "            d[key] = 1\n",
    "        else:\n",
    "            d[key] += 1\n",
    "    return d"
   ]
  },
  {
   "cell_type": "code",
   "execution_count": null,
   "id": "0032051f-ae0c-42d3-ae0c-3680d506d680",
   "metadata": {},
   "outputs": [],
   "source": [
    "D = {}\n",
    "with open('dataset_3363_3.txt') as inf:\n",
    "    for line in inf:\n",
    "        line = line.lower().strip().split()\n",
    "        #print(line)\n",
    "        D = cnt_inc(line, D)\n",
    "print(D)\n",
    "v_max = max(D.values())\n",
    "print(v_max)\n",
    "\n",
    "k_max = 'zzz'\n",
    "for key in D:\n",
    "    if D[key] == v_max and key < k_max:\n",
    "        k_max = key\n",
    "\n",
    "print(k_max, v_max)"
   ]
  },
  {
   "cell_type": "code",
   "execution_count": null,
   "id": "5ddf37ed-152b-4a86-ba79-947609aea179",
   "metadata": {},
   "outputs": [],
   "source": []
  },
  {
   "cell_type": "code",
   "execution_count": null,
   "id": "6649f406-d427-4bb5-838e-53535962c4e5",
   "metadata": {},
   "outputs": [],
   "source": [
    "m, f, r, n = 0, 0, 0, 0\n",
    "#with open('333.txt') as inf:\n",
    "with open('dataset_3363_4.txt') as inf:\n",
    "    for l in inf:\n",
    "        l = l.strip().split(';')\n",
    "        print(round((int(l[1]) + int(l[2]) + int(l[3])) / 3, 9))\n",
    "        m += int(l[1])\n",
    "        f += int(l[2])\n",
    "        r += int(l[3])\n",
    "        n += 1\n",
    "print(round(m/n, 9), round(f/n, 9), round(r/n, 9))"
   ]
  },
  {
   "cell_type": "code",
   "execution_count": null,
   "id": "7053f497-afe4-4177-85c9-0cf3db3e3224",
   "metadata": {},
   "outputs": [],
   "source": []
  },
  {
   "cell_type": "code",
   "execution_count": 6,
   "id": "466190c6-d0ab-4680-92ae-5fd1cc44b00d",
   "metadata": {},
   "outputs": [
    {
     "name": "stdin",
     "output_type": "stream",
     "text": [
      " 10.0\n"
     ]
    },
    {
     "name": "stdout",
     "output_type": "stream",
     "text": [
      "62.83185307179586\n"
     ]
    }
   ],
   "source": [
    "from math import pi as my_pi\n",
    "print (float(input()) * 2 * my_pi)"
   ]
  },
  {
   "cell_type": "code",
   "execution_count": null,
   "id": "bea60fb6-202f-439a-8cd6-86a91ad44ee8",
   "metadata": {},
   "outputs": [],
   "source": []
  },
  {
   "cell_type": "code",
   "execution_count": 14,
   "id": "ec8cdd24-5ebb-4e3b-a8c6-63b078fc0d11",
   "metadata": {},
   "outputs": [
    {
     "name": "stdout",
     "output_type": "stream",
     "text": [
      "-f C:\\Users\\Andre\\AppData\\Roaming\\jupyter\\runtime\\kernel-345782e9-8a57-44d6-b4ee-15cea27a0c52.json\n"
     ]
    }
   ],
   "source": [
    "import sys\n",
    "print(*sys.argv[1:])"
   ]
  },
  {
   "cell_type": "code",
   "execution_count": null,
   "id": "6c141fce-a842-45cb-9694-abad000ab7b0",
   "metadata": {},
   "outputs": [],
   "source": []
  },
  {
   "cell_type": "code",
   "execution_count": 15,
   "id": "7175fe55-eb5b-47c3-ae51-81b98f14752d",
   "metadata": {},
   "outputs": [],
   "source": [
    "import requests"
   ]
  },
  {
   "cell_type": "code",
   "execution_count": 26,
   "id": "9907c0c7-6cd3-43db-838e-6352ca66a683",
   "metadata": {},
   "outputs": [
    {
     "name": "stdout",
     "output_type": "stream",
     "text": [
      "http://example.com/\n"
     ]
    }
   ],
   "source": [
    "url = 'http://example.com'\n",
    "cookies = {'cokies_are': 'working'}\n",
    "r = requests.get(url, cookies=cookies)\n",
    "#print(r.text)\n",
    "print(r.url)\n",
    "#print(r.cookies)"
   ]
  },
  {
   "cell_type": "code",
   "execution_count": null,
   "id": "d4169f73-4b90-436e-8310-62a41a364cef",
   "metadata": {},
   "outputs": [],
   "source": []
  },
  {
   "cell_type": "code",
   "execution_count": 32,
   "id": "f145fb83-c978-4726-8ae5-19011dcfcee7",
   "metadata": {},
   "outputs": [
    {
     "data": {
      "text/plain": [
       "54"
      ]
     },
     "execution_count": 32,
     "metadata": {},
     "output_type": "execute_result"
    }
   ],
   "source": [
    "url = 'https://stepic.org/media/attachments/course67/3.6.2/324.txt'\n",
    "r = requests.get(url)\n",
    "len(r.text.splitlines())"
   ]
  },
  {
   "cell_type": "code",
   "execution_count": null,
   "id": "29681b4e-90de-4b13-bcfc-1811f1ca356e",
   "metadata": {},
   "outputs": [],
   "source": []
  },
  {
   "cell_type": "code",
   "execution_count": 41,
   "id": "76cf1b42-f243-4fa9-824e-d78863423174",
   "metadata": {
    "scrolled": true,
    "tags": []
   },
   "outputs": [
    {
     "name": "stdout",
     "output_type": "stream",
     "text": [
      "213837.txt\n",
      "396639.txt\n",
      "835329.txt\n",
      "344063.txt\n",
      "194307.txt\n",
      "195211.txt\n",
      "769171.txt\n",
      "153554.txt\n",
      "680916.txt\n",
      "335636.txt\n",
      "935728.txt\n",
      "081303.txt\n",
      "792633.txt\n",
      "668368.txt\n",
      "647731.txt\n",
      "904392.txt\n",
      "684563.txt\n",
      "997337.txt\n",
      "329467.txt\n",
      "366219.txt\n",
      "730037.txt\n",
      "310230.txt\n",
      "104249.txt\n",
      "382504.txt\n",
      "433681.txt\n",
      "507359.txt\n",
      "293649.txt\n",
      "011641.txt\n",
      "717942.txt\n",
      "258080.txt\n",
      "569395.txt\n",
      "756825.txt\n",
      "921388.txt\n",
      "437007.txt\n",
      "004090.txt\n",
      "362705.txt\n",
      "145282.txt\n",
      "990216.txt\n",
      "645783.txt\n",
      "451262.txt\n",
      "193295.txt\n",
      "777343.txt\n",
      "324603.txt\n",
      "888934.txt\n",
      "138655.txt\n",
      "818396.txt\n",
      "290594.txt\n",
      "478003.txt\n",
      "276687.txt\n",
      "703763.txt\n",
      "712469.txt\n",
      "064418.txt\n",
      "246033.txt\n",
      "356768.txt\n",
      "504290.txt\n",
      "629914.txt\n",
      "062456.txt\n",
      "658472.txt\n",
      "037659.txt\n",
      "351978.txt\n",
      "523822.txt\n",
      "653493.txt\n",
      "859227.txt\n",
      "878358.txt\n",
      "944504.txt\n",
      "457602.txt\n",
      "548571.txt\n",
      "090976.txt\n",
      "965991.txt\n",
      "138128.txt\n",
      "255843.txt\n",
      "797598.txt\n",
      "640003.txt\n",
      "789435.txt\n",
      "181382.txt\n",
      "590526.txt\n",
      "430513.txt\n",
      "182774.txt\n",
      "924794.txt\n",
      "998193.txt\n",
      "770039.txt\n",
      "619504.txt\n",
      "098137.txt\n",
      "874234.txt\n",
      "476929.txt\n",
      "254654.txt\n",
      "972817.txt\n",
      "183249.txt\n",
      "231788.txt\n",
      "238807.txt\n",
      "775176.txt\n",
      "332055.txt\n",
      "971266.txt\n",
      "641342.txt\n",
      "377648.txt\n",
      "665641.txt\n",
      "120842.txt\n",
      "435728.txt\n",
      "860507.txt\n",
      "845049.txt\n",
      "103662.txt\n",
      "989375.txt\n",
      "949525.txt\n",
      "622807.txt\n",
      "441279.txt\n",
      "252484.txt\n",
      "595082.txt\n",
      "942502.txt\n",
      "544418.txt\n",
      "242071.txt\n",
      "696203.txt\n",
      "470997.txt\n",
      "858079.txt\n",
      "299971.txt\n",
      "474312.txt\n",
      "202815.txt\n",
      "192361.txt\n",
      "036087.txt\n",
      "208836.txt\n",
      "057270.txt\n",
      "414940.txt\n",
      "685551.txt\n",
      "877276.txt\n",
      "183839.txt\n",
      "681194.txt\n",
      "268115.txt\n",
      "850395.txt\n",
      "841311.txt\n",
      "318124.txt\n",
      "502298.txt\n",
      "870820.txt\n",
      "886554.txt\n",
      "874723.txt\n",
      "785247.txt\n",
      "743951.txt\n",
      "893121.txt\n",
      "493592.txt\n",
      "043302.txt\n",
      "512901.txt\n",
      "455422.txt\n",
      "405792.txt\n",
      "223561.txt\n",
      "711048.txt\n",
      "986818.txt\n",
      "919305.txt\n",
      "673023.txt\n",
      "195915.txt\n",
      "113918.txt\n",
      "829948.txt\n",
      "407495.txt\n",
      "799448.txt\n",
      "455591.txt\n",
      "046533.txt\n",
      "895838.txt\n",
      "203749.txt\n",
      "897513.txt\n",
      "023903.txt\n",
      "639854.txt\n",
      "767954.txt\n",
      "483260.txt\n",
      "305657.txt\n",
      "113973.txt\n",
      "569665.txt\n",
      "811640.txt\n",
      "627996.txt\n",
      "555691.txt\n",
      "126531.txt\n",
      "434239.txt\n",
      "812997.txt\n",
      "012540.txt\n",
      "457171.txt\n",
      "809767.txt\n",
      "113083.txt\n",
      "168190.txt\n",
      "105218.txt\n",
      "426930.txt\n",
      "839383.txt\n",
      "318610.txt\n",
      "727580.txt\n",
      "966169.txt\n",
      "633699.txt\n",
      "933699.txt\n",
      "254907.txt\n",
      "277257.txt\n",
      "105289.txt\n",
      "618947.txt\n",
      "788422.txt\n",
      "598850.txt\n",
      "218724.txt\n",
      "855788.txt\n",
      "414896.txt\n",
      "086361.txt\n",
      "259720.txt\n",
      "864746.txt\n",
      "213015.txt\n",
      "706951.txt\n",
      "790699.txt\n",
      "556965.txt\n",
      "843911.txt\n",
      "824452.txt\n",
      "558623.txt\n",
      "299517.txt\n",
      "204151.txt\n",
      "864178.txt\n",
      "001410.txt\n",
      "268784.txt\n",
      "413917.txt\n",
      "258819.txt\n",
      "694433.txt\n",
      "376424.txt\n",
      "198564.txt\n",
      "228068.txt\n",
      "417050.txt\n",
      "453058.txt\n",
      "182986.txt\n",
      "237570.txt\n",
      "680981.txt\n",
      "865546.txt\n",
      "367559.txt\n",
      "122687.txt\n",
      "783680.txt\n",
      "626200.txt\n",
      "953943.txt\n",
      "009102.txt\n",
      "882919.txt\n",
      "984198.txt\n",
      "867571.txt\n",
      "889641.txt\n",
      "223919.txt\n",
      "748056.txt\n",
      "577611.txt\n",
      "749540.txt\n",
      "536080.txt\n",
      "351770.txt\n",
      "968708.txt\n",
      "311090.txt\n",
      "239129.txt\n",
      "312237.txt\n",
      "053569.txt\n",
      "678528.txt\n",
      "767429.txt\n",
      "095729.txt\n",
      "452488.txt\n",
      "798915.txt\n",
      "426191.txt\n",
      "067336.txt\n",
      "949017.txt\n",
      "987573.txt\n",
      "843785.txt\n",
      "We are the champions, my friends,\n",
      "And we'll keep on fighting 'til the end.\n",
      "We are the champions.\n",
      "We are the champions.\n",
      "No time for losers\n",
      "'Cause we are the champions of the world.\n",
      "We are the champions, my friends,\n",
      "And we'll keep on fighting 'til the end.\n",
      "We are the champions.\n",
      "We are the champions.\n",
      "No time for losers\n",
      "'Cause we are the champions of the world.\n"
     ]
    }
   ],
   "source": [
    "text = '699991.txt'\n",
    "base_url = 'https://stepic.org/media/attachments/course67/3.6.3/'\n",
    "while text != 'We':\n",
    "    url = base_url + text\n",
    "    r = requests.get(url)\n",
    "    print(r.text)\n",
    "    text = r.text.split()[0]\n",
    "print(r.text)    "
   ]
  },
  {
   "cell_type": "code",
   "execution_count": null,
   "id": "666976cc-98a8-439f-8eb3-82aa652f5e7f",
   "metadata": {},
   "outputs": [],
   "source": []
  },
  {
   "cell_type": "code",
   "execution_count": 16,
   "id": "8a9c7379-e5e5-455f-bac3-5eed4a9ea540",
   "metadata": {},
   "outputs": [
    {
     "name": "stdin",
     "output_type": "stream",
     "text": [
      " 3\n",
      " Спартак;9;Зенит;10\n",
      " Локомотив;12;Зенит;3\n",
      " Спартак;8;Локомотив;15\n"
     ]
    }
   ],
   "source": [
    "d = {}\n",
    "n = int(input())\n",
    "for i in range(n):\n",
    "    st = input().split(';')\n",
    "    if st[0] not in d:\n",
    "        d[st[0]] = [0, 0, 0, 0, 0]\n",
    "    if st[2] not in d:\n",
    "        d[st[2]] = [0, 0, 0, 0, 0]\n",
    "    d[st[0]][0] += 1\n",
    "    d[st[2]][0] += 1\n",
    "    if int(st[1]) > int(st[3]):\n",
    "        d[st[0]][1] += 1\n",
    "        d[st[2]][3] += 1\n",
    "        d[st[0]][4] += 3\n",
    "    elif int(st[1]) < int(st[3]):\n",
    "        d[st[2]][1] += 1\n",
    "        d[st[0]][3] += 1\n",
    "        d[st[2]][4] += 3\n",
    "    else:\n",
    "        d[st[0]][2] += 1\n",
    "        d[st[0]][4] += 1\n",
    "        d[st[2]][2] += 1\n",
    "        d[st[2]][4] += 1\n",
    "for j in d:\n",
    "    print(j+':', end='')\n",
    "    print(*d[j])"
   ]
  },
  {
   "cell_type": "code",
   "execution_count": null,
   "id": "aa6e1a05-d72b-42a6-9e8f-aa05ca8d29d8",
   "metadata": {},
   "outputs": [],
   "source": []
  },
  {
   "cell_type": "code",
   "execution_count": 43,
   "id": "09b59997-63da-4e95-bf97-e1b15a93a63f",
   "metadata": {},
   "outputs": [],
   "source": [
    "st_1 = input()\n",
    "st_2 = input()\n",
    "\n",
    "d_1 = {}\n",
    "d_2 = {}\n",
    "for i in range(len(st_1)):\n",
    "    d_1[st_1[i]] = st_2[i]\n",
    "    d_2[st_2[i]] = st_1[i]\n",
    "\n",
    "st_3 = input()\n",
    "st_4 = input()\n",
    "\n",
    "for j in range(len(st_3)):\n",
    "    print(d_1[st_3[j]], end='')\n",
    "print()\n",
    "for j in range(len(st_4)):\n",
    "    print(d_2[st_4[j]], end='')"
   ]
  },
  {
   "cell_type": "code",
   "execution_count": null,
   "id": "3c79a545-202a-4025-ad3e-dea75fdf774c",
   "metadata": {},
   "outputs": [],
   "source": []
  },
  {
   "cell_type": "code",
   "execution_count": 56,
   "id": "fa8dcbe9-5d1d-446c-8de9-c6c8773f1d43",
   "metadata": {},
   "outputs": [],
   "source": [
    "d = int(input())\n",
    "s = set()\n",
    "for i in range(d):\n",
    "    word = input().lower()\n",
    "    s.add(word)\n",
    "\n",
    "l = int(input())\n",
    "s_2 = set()\n",
    "for i in range(l):\n",
    "    line = input().lower().split()\n",
    "    for word in line:\n",
    "        s_2.add(word)\n",
    "\n",
    "for mis in s_2:\n",
    "    if mis not in s:\n",
    "        print(mis)"
   ]
  },
  {
   "cell_type": "code",
   "execution_count": null,
   "id": "1a95bc93-0c15-4ea6-a77d-1236012ee839",
   "metadata": {},
   "outputs": [],
   "source": []
  },
  {
   "cell_type": "code",
   "execution_count": 23,
   "id": "0d39c744-4fdc-4ee3-b1c1-beca6e7c0b7d",
   "metadata": {},
   "outputs": [
    {
     "name": "stdin",
     "output_type": "stream",
     "text": [
      " 0\n"
     ]
    },
    {
     "name": "stdout",
     "output_type": "stream",
     "text": [
      "0 0\n"
     ]
    }
   ],
   "source": [
    "x, y = 0, 0\n",
    "n = int(input())\n",
    "for i in range(n):\n",
    "    st = input().split()\n",
    "    if st[0] == 'восток': x += int(st[1])\n",
    "    elif st[0] == 'запад': x -= int(st[1])\n",
    "    elif st[0] == 'север': y += int(st[1])\n",
    "    else: y -= int(st[1])\n",
    "print(x, y)"
   ]
  },
  {
   "cell_type": "code",
   "execution_count": 14,
   "id": "b57786c2-9eff-4d6c-91fa-b6b8161c669d",
   "metadata": {},
   "outputs": [],
   "source": []
  },
  {
   "cell_type": "code",
   "execution_count": 54,
   "id": "1ea4181c-e9a1-4f6e-b72e-2e6e3aa02fca",
   "metadata": {},
   "outputs": [
    {
     "name": "stdout",
     "output_type": "stream",
     "text": [
      "1 123.46153846153847\n",
      "2 130.33333333333334\n",
      "3 132.875\n",
      "4 142.83333333333334\n",
      "5 145.28571428571428\n",
      "6 156.5\n",
      "7 160.8181818181818\n",
      "8 162.83333333333334\n",
      "9 169.6\n",
      "10 169.8181818181818\n",
      "11 175.54545454545453\n"
     ]
    }
   ],
   "source": [
    "d = {}\n",
    "for i in range(1, 12):\n",
    "    d[str(i)] = []\n",
    "\n",
    "with open('dataset_3380_5.txt') as inf:\n",
    "    for l in inf:\n",
    "        l = l.strip().split('\\t')\n",
    "        d[l[0]] += [int(l[2])]\n",
    "\n",
    "for j in d:\n",
    "    if len(d[j]) > 0:\n",
    "        print(j, sum(d[j]) / len(d[j]))\n",
    "    else:\n",
    "        print(j, '-')"
   ]
  },
  {
   "cell_type": "code",
   "execution_count": null,
   "id": "093b8a45-a488-40c0-bff0-6983c8d23ff0",
   "metadata": {},
   "outputs": [],
   "source": []
  }
 ],
 "metadata": {
  "kernelspec": {
   "display_name": "Python 3 (ipykernel)",
   "language": "python",
   "name": "python3"
  },
  "language_info": {
   "codemirror_mode": {
    "name": "ipython",
    "version": 3
   },
   "file_extension": ".py",
   "mimetype": "text/x-python",
   "name": "python",
   "nbconvert_exporter": "python",
   "pygments_lexer": "ipython3",
   "version": "3.9.12"
  }
 },
 "nbformat": 4,
 "nbformat_minor": 5
}
