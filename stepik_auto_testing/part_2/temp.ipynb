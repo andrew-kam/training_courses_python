{
 "cells": [
  {
   "cell_type": "code",
   "execution_count": 2,
   "outputs": [],
   "source": [
    "import time\n",
    "from selenium import webdriver\n",
    "from selenium.webdriver.chrome.service import Service\n",
    "from selenium.webdriver.common.by import By\n",
    "from webdriver_manager.chrome import ChromeDriverManager"
   ],
   "metadata": {
    "collapsed": false
   }
  },
  {
   "cell_type": "code",
   "execution_count": null,
   "outputs": [],
   "source": [
    "driver = webdriver.Chrome(service=Service(ChromeDriverManager().install()))\n",
    "time.sleep(5)\n",
    "\n",
    "driver.get(\"https://suninjuly.github.io/text_input_task.html\")\n",
    "time.sleep(5)\n",
    "textarea = driver.find_element(By.CSS_SELECTOR, \".textarea\")\n",
    "\n",
    "textarea.send_keys(\"get()\")\n",
    "time.sleep(5)\n",
    "\n",
    "submit_button = driver.find_element(By.CSS_SELECTOR, \".submit-submission\")\n",
    "\n",
    "submit_button.click()\n",
    "time.sleep(5)\n",
    "driver.quit()"
   ],
   "metadata": {
    "collapsed": false
   }
  },
  {
   "cell_type": "code",
   "execution_count": 8,
   "outputs": [],
   "source": [
    "link = \"http://suninjuly.github.io/simple_form_find_task.html\"\n",
    "browser = webdriver.Chrome(service=Service(ChromeDriverManager().install()))\n",
    "time.sleep(3)\n",
    "try:\n",
    "    browser.get(link)\n",
    "    time.sleep(3)\n",
    "\n",
    "    button = browser.find_element(By.ID, \"submit_button\")\n",
    "    button.click()\n",
    "finally:\n",
    "    browser.quit()"
   ],
   "metadata": {
    "collapsed": false
   }
  },
  {
   "cell_type": "code",
   "execution_count": 13,
   "outputs": [],
   "source": [
    "link = \"http://suninjuly.github.io/simple_form_find_task.html\"\n",
    "\n",
    "with webdriver.Chrome(service=Service(ChromeDriverManager().install())) as browser:\n",
    "    browser.get(link)\n",
    "    time.sleep(2)\n",
    "    button = browser.find_element(By.ID, \"submit_button\")\n",
    "    # button = browser.find_element('id', \"submit_button\")\n",
    "    button.click()"
   ],
   "metadata": {
    "collapsed": false
   }
  },
  {
   "cell_type": "code",
   "execution_count": null,
   "outputs": [],
   "source": [],
   "metadata": {
    "collapsed": false
   }
  }
 ],
 "metadata": {
  "kernelspec": {
   "display_name": "Python 3",
   "language": "python",
   "name": "python3"
  },
  "language_info": {
   "codemirror_mode": {
    "name": "ipython",
    "version": 2
   },
   "file_extension": ".py",
   "mimetype": "text/x-python",
   "name": "python",
   "nbconvert_exporter": "python",
   "pygments_lexer": "ipython2",
   "version": "2.7.6"
  }
 },
 "nbformat": 4,
 "nbformat_minor": 0
}
